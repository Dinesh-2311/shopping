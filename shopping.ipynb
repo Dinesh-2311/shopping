{
 "cells": [
  {
   "cell_type": "code",
   "id": "initial_id",
   "metadata": {
    "collapsed": true,
    "ExecuteTime": {
     "end_time": "2024-12-10T21:25:02.837742Z",
     "start_time": "2024-12-10T21:25:02.832642Z"
    }
   },
   "source": [
    "# Import necessary libraries\n",
    "import pandas as pd\n",
    "import numpy as np\n",
    "from sklearn.model_selection import train_test_split\n",
    "from sklearn.neighbors import KNeighborsClassifier\n",
    "import calendar\n",
    "import matplotlib.pyplot as plt\n",
    "import seaborn as sns\n",
    "from sklearn.metrics import confusion_matrix"
   ],
   "outputs": [],
   "execution_count": 12
  },
  {
   "metadata": {
    "ExecuteTime": {
     "end_time": "2024-12-10T21:25:02.874389Z",
     "start_time": "2024-12-10T21:25:02.868950Z"
    }
   },
   "cell_type": "code",
   "source": [
    "# Define the filename\n",
    "FILENAME = r\"C:\\Users\\dines\\OneDrive\\Desktop\\shopping\\shopping\\shopping.csv\"  # Update this with the correct path if necessary\n"
   ],
   "id": "77d5e54ca40f3738",
   "outputs": [],
   "execution_count": 13
  },
  {
   "metadata": {
    "ExecuteTime": {
     "end_time": "2024-12-10T21:25:02.899099Z",
     "start_time": "2024-12-10T21:25:02.889507Z"
    }
   },
   "cell_type": "code",
   "source": [
    "# Function to load data\n",
    "def load_data(filename):\n",
    "    months = {name: idx for idx, name in enumerate(calendar.month_abbr)}  # Month name to index mapping\n",
    "    \n",
    "    evidence = []\n",
    "    labels = []\n",
    "\n",
    "    # Reading the CSV data into a pandas DataFrame\n",
    "    df = pd.read_csv(filename)\n",
    "    \n",
    "    print(\"First few rows of the dataset:\\n\", df.head())  # Print first few rows for inspection\n",
    "    \n",
    "    for _, row in df.iterrows():\n",
    "        evidence.append([\n",
    "            row[\"Administrative\"],\n",
    "            row[\"Administrative_Duration\"],\n",
    "            row[\"Informational\"],\n",
    "            row[\"Informational_Duration\"],\n",
    "            row[\"ProductRelated\"],\n",
    "            row[\"ProductRelated_Duration\"],\n",
    "            row[\"BounceRates\"],\n",
    "            row[\"ExitRates\"],\n",
    "            row[\"PageValues\"],\n",
    "            row[\"SpecialDay\"],\n",
    "            months[row[\"Month\"][:3].capitalize()],  # Convert month name to index\n",
    "            row[\"OperatingSystems\"],\n",
    "            row[\"Browser\"],\n",
    "            row[\"Region\"],\n",
    "            row[\"TrafficType\"],\n",
    "            1 if row[\"VisitorType\"] == \"Returning_Visitor\" else 0,\n",
    "            1 if row[\"Weekend\"] == \"TRUE\" else 0\n",
    "        ])\n",
    "        # Revenue is the target variable\n",
    "        labels.append(1 if row[\"Revenue\"] == \"TRUE\" else 0)\n",
    "\n",
    "    # Print the first few rows of evidence and labels\n",
    "    print(f\"First few rows of evidence:\\n {evidence[:5]}\")\n",
    "    print(f\"First few rows of labels:\\n {labels[:5]}\")\n",
    "\n",
    "    return np.array(evidence), np.array(labels)"
   ],
   "id": "20965151ee288433",
   "outputs": [],
   "execution_count": 14
  },
  {
   "metadata": {
    "ExecuteTime": {
     "end_time": "2024-12-10T21:26:00.717388Z",
     "start_time": "2024-12-10T21:26:00.703642Z"
    }
   },
   "cell_type": "code",
   "source": [
    "# Function to train the k-NN model\n",
    "def train_model(evidence, labels):\n",
    "    model = KNeighborsClassifier(n_neighbors=1)\n",
    "    model.fit(evidence, labels)\n",
    "    \n",
    "    print(\"Model trained with the following parameters:\")\n",
    "    print(f\"Number of neighbors: {model.n_neighbors}\")\n",
    "    \n",
    "    return model\n"
   ],
   "id": "6b960a4d8d0fd319",
   "outputs": [],
   "execution_count": 20
  },
  {
   "metadata": {
    "ExecuteTime": {
     "end_time": "2024-12-10T21:26:01.564565Z",
     "start_time": "2024-12-10T21:26:01.552554Z"
    }
   },
   "cell_type": "code",
   "source": [
    "# Function to calculate sensitivity and specificity\n",
    "def evaluate(labels, predictions):\n",
    "    true_positive = np.sum((labels == 1) & (predictions == 1))\n",
    "    false_negative = np.sum((labels == 1) & (predictions == 0))\n",
    "    true_negative = np.sum((labels == 0) & (predictions == 0))\n",
    "    false_positive = np.sum((labels == 0) & (predictions == 1))\n",
    "\n",
    "    print(f\"Confusion matrix components: TP={true_positive}, FN={false_negative}, TN={true_negative}, FP={false_positive}\")\n",
    "    \n",
    "    sensitivity = true_positive / (true_positive + false_negative) if (true_positive + false_negative) > 0 else 0\n",
    "    specificity = true_negative / (true_negative + false_positive) if (true_negative + false_positive) > 0 else 0\n",
    "\n",
    "    return sensitivity, specificity"
   ],
   "id": "a8244c3ab388e4cd",
   "outputs": [],
   "execution_count": 21
  },
  {
   "metadata": {
    "ExecuteTime": {
     "end_time": "2024-12-10T21:26:02.234046Z",
     "start_time": "2024-12-10T21:26:02.213263Z"
    }
   },
   "cell_type": "code",
   "source": [
    "# Function to plot confusion matrix\n",
    "def plot_confusion_matrix(y_test, predictions):\n",
    "    cm = confusion_matrix(y_test, predictions, labels=[0, 1])\n",
    "    plt.figure(figsize=(6, 5))\n",
    "    sns.heatmap(cm, annot=True, fmt=\"d\", cmap=\"Blues\", xticklabels=[\"No Purchase\", \"Purchase\"], yticklabels=[\"No Purchase\", \"Purchase\"])\n",
    "    plt.xlabel('Predicted')\n",
    "    plt.ylabel('True')\n",
    "    plt.title('Confusion Matrix')\n",
    "    plt.show()\n"
   ],
   "id": "41a20cfb2d3201db",
   "outputs": [],
   "execution_count": 22
  },
  {
   "metadata": {
    "ExecuteTime": {
     "end_time": "2024-12-10T21:26:03.366069Z",
     "start_time": "2024-12-10T21:26:03.348503Z"
    }
   },
   "cell_type": "code",
   "source": [
    "# Main function to run the model\n",
    "def main():\n",
    "    # Load data\n",
    "    evidence, labels = load_data(FILENAME)\n",
    "    \n",
    "    # Split data into training and testing sets (80% train, 20% test)\n",
    "    X_train, X_test, y_train, y_test = train_test_split(evidence, labels, test_size=0.4, random_state=42)\n",
    "    \n",
    "    # Train the model\n",
    "    model = train_model(X_train, y_train)\n",
    "    \n",
    "    # Make predictions on the test set\n",
    "    predictions = model.predict(X_test)\n",
    "    \n",
    "    # Evaluate the model\n",
    "    sensitivity, specificity = evaluate(y_test, predictions)\n",
    "    \n",
    "    print(f\"True Positive Rate (Sensitivity): {100 * sensitivity:.2f}%\")\n",
    "    print(f\"True Negative Rate (Specificity): {100 * specificity:.2f}%\")\n",
    "    \n",
    "    # Plot confusion matrix\n",
    "    plot_confusion_matrix(y_test, predictions)"
   ],
   "id": "70d0ad9f5f428c5b",
   "outputs": [],
   "execution_count": 23
  },
  {
   "metadata": {
    "ExecuteTime": {
     "end_time": "2024-12-10T21:26:06.668473Z",
     "start_time": "2024-12-10T21:26:04.278061Z"
    }
   },
   "cell_type": "code",
   "source": [
    "# Function to test the code\n",
    "def test_shopping():\n",
    "    \"\"\"Test if load_data, train_model, and evaluate functions work correctly.\"\"\"\n",
    "    try:\n",
    "        evidence, labels = load_data(FILENAME)\n",
    "        print(\"load_data: Passed\")\n",
    "    except Exception as e:\n",
    "        print(f\"load_data: Failed - {e}\")\n",
    "    \n",
    "    try:\n",
    "        model = train_model(evidence, labels)\n",
    "        print(\"train_model: Passed\")\n",
    "    except Exception as e:\n",
    "        print(f\"train_model: Failed - {e}\")\n",
    "    \n",
    "    try:\n",
    "        predictions = model.predict(evidence)\n",
    "        sensitivity, specificity = evaluate(labels, predictions)\n",
    "        print(\"evaluate: Passed\")\n",
    "        print(f\"Evaluation - Sensitivity: {100 * sensitivity:.2f}%, Specificity: {100 * specificity:.2f}%\")\n",
    "    except Exception as e:\n",
    "        print(f\"evaluate: Failed - {e}\")\n",
    "\n",
    "# Run the main function to execute the model\n",
    "main()\n",
    "\n",
    "# Optionally, test the model components\n",
    "test_shopping()"
   ],
   "id": "5e0409446f803dd",
   "outputs": [
    {
     "name": "stdout",
     "output_type": "stream",
     "text": [
      "First few rows of the dataset:\n",
      "    Administrative  Administrative_Duration  Informational  \\\n",
      "0               0                      0.0              0   \n",
      "1               0                      0.0              0   \n",
      "2               0                      0.0              0   \n",
      "3               0                      0.0              0   \n",
      "4               0                      0.0              0   \n",
      "\n",
      "   Informational_Duration  ProductRelated  ProductRelated_Duration  \\\n",
      "0                     0.0               1                 0.000000   \n",
      "1                     0.0               2                64.000000   \n",
      "2                     0.0               1                 0.000000   \n",
      "3                     0.0               2                 2.666667   \n",
      "4                     0.0              10               627.500000   \n",
      "\n",
      "   BounceRates  ExitRates  PageValues  SpecialDay Month  OperatingSystems  \\\n",
      "0         0.20       0.20         0.0         0.0   Feb                 1   \n",
      "1         0.00       0.10         0.0         0.0   Feb                 2   \n",
      "2         0.20       0.20         0.0         0.0   Feb                 4   \n",
      "3         0.05       0.14         0.0         0.0   Feb                 3   \n",
      "4         0.02       0.05         0.0         0.0   Feb                 3   \n",
      "\n",
      "   Browser  Region  TrafficType        VisitorType  Weekend  Revenue  \n",
      "0        1       1            1  Returning_Visitor    False    False  \n",
      "1        2       1            2  Returning_Visitor    False    False  \n",
      "2        1       9            3  Returning_Visitor    False    False  \n",
      "3        2       2            4  Returning_Visitor    False    False  \n",
      "4        3       1            4  Returning_Visitor     True    False  \n",
      "First few rows of evidence:\n",
      " [[0, 0.0, 0, 0.0, 1, 0.0, 0.2, 0.2, 0.0, 0.0, 2, 1, 1, 1, 1, 1, 0], [0, 0.0, 0, 0.0, 2, 64.0, 0.0, 0.1, 0.0, 0.0, 2, 2, 2, 1, 2, 1, 0], [0, 0.0, 0, 0.0, 1, 0.0, 0.2, 0.2, 0.0, 0.0, 2, 4, 1, 9, 3, 1, 0], [0, 0.0, 0, 0.0, 2, 2.666666667, 0.05, 0.14, 0.0, 0.0, 2, 3, 2, 2, 4, 1, 0], [0, 0.0, 0, 0.0, 10, 627.5, 0.02, 0.05, 0.0, 0.0, 2, 3, 3, 1, 4, 1, 0]]\n",
      "First few rows of labels:\n",
      " [0, 0, 0, 0, 0]\n",
      "Model trained with the following parameters:\n",
      "Number of neighbors: 1\n",
      "Confusion matrix components: TP=0, FN=0, TN=4932, FP=0\n",
      "True Positive Rate (Sensitivity): 0.00%\n",
      "True Negative Rate (Specificity): 100.00%\n"
     ]
    },
    {
     "data": {
      "text/plain": [
       "<Figure size 600x500 with 2 Axes>"
      ],
      "image/png": "[encoded data removed]"
     },
     "metadata": {},
     "output_type": "display_data"
    },
    {
     "name": "stdout",
     "output_type": "stream",
     "text": [
      "First few rows of the dataset:\n",
      "    Administrative  Administrative_Duration  Informational  \\\n",
      "0               0                      0.0              0   \n",
      "1               0                      0.0              0   \n",
      "2               0                      0.0              0   \n",
      "3               0                      0.0              0   \n",
      "4               0                      0.0              0   \n",
      "\n",
      "   Informational_Duration  ProductRelated  ProductRelated_Duration  \\\n",
      "0                     0.0               1                 0.000000   \n",
      "1                     0.0               2                64.000000   \n",
      "2                     0.0               1                 0.000000   \n",
      "3                     0.0               2                 2.666667   \n",
      "4                     0.0              10               627.500000   \n",
      "\n",
      "   BounceRates  ExitRates  PageValues  SpecialDay Month  OperatingSystems  \\\n",
      "0         0.20       0.20         0.0         0.0   Feb                 1   \n",
      "1         0.00       0.10         0.0         0.0   Feb                 2   \n",
      "2         0.20       0.20         0.0         0.0   Feb                 4   \n",
      "3         0.05       0.14         0.0         0.0   Feb                 3   \n",
      "4         0.02       0.05         0.0         0.0   Feb                 3   \n",
      "\n",
      "   Browser  Region  TrafficType        VisitorType  Weekend  Revenue  \n",
      "0        1       1            1  Returning_Visitor    False    False  \n",
      "1        2       1            2  Returning_Visitor    False    False  \n",
      "2        1       9            3  Returning_Visitor    False    False  \n",
      "3        2       2            4  Returning_Visitor    False    False  \n",
      "4        3       1            4  Returning_Visitor     True    False  \n",
      "First few rows of evidence:\n",
      " [[0, 0.0, 0, 0.0, 1, 0.0, 0.2, 0.2, 0.0, 0.0, 2, 1, 1, 1, 1, 1, 0], [0, 0.0, 0, 0.0, 2, 64.0, 0.0, 0.1, 0.0, 0.0, 2, 2, 2, 1, 2, 1, 0], [0, 0.0, 0, 0.0, 1, 0.0, 0.2, 0.2, 0.0, 0.0, 2, 4, 1, 9, 3, 1, 0], [0, 0.0, 0, 0.0, 2, 2.666666667, 0.05, 0.14, 0.0, 0.0, 2, 3, 2, 2, 4, 1, 0], [0, 0.0, 0, 0.0, 10, 627.5, 0.02, 0.05, 0.0, 0.0, 2, 3, 3, 1, 4, 1, 0]]\n",
      "First few rows of labels:\n",
      " [0, 0, 0, 0, 0]\n",
      "load_data: Passed\n",
      "Model trained with the following parameters:\n",
      "Number of neighbors: 1\n",
      "train_model: Passed\n",
      "Confusion matrix components: TP=0, FN=0, TN=12330, FP=0\n",
      "evaluate: Passed\n",
      "Evaluation - Sensitivity: 0.00%, Specificity: 100.00%\n"
     ]
    }
   ],
   "execution_count": 24
  },
  {
   "metadata": {
    "ExecuteTime": {
     "end_time": "2024-12-10T21:25:05.199459Z",
     "start_time": "2024-12-10T21:25:05.196900Z"
    }
   },
   "cell_type": "code",
   "source": "",
   "id": "18e9c8d2e34b3359",
   "outputs": [],
   "execution_count": null
  }
 ],
 "metadata": {
  "kernelspec": {
   "display_name": "Python 3",
   "language": "python",
   "name": "python3"
  },
  "language_info": {
   "codemirror_mode": {
    "name": "ipython",
    "version": 2
   },
   "file_extension": ".py",
   "mimetype": "text/x-python",
   "name": "python",
   "nbconvert_exporter": "python",
   "pygments_lexer": "ipython2",
   "version": "2.7.6"
  }
 },
 "nbformat": 4,
 "nbformat_minor": 5
}
